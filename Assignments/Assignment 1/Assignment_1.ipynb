{
 "metadata": {
  "language_info": {
   "codemirror_mode": {
    "name": "ipython",
    "version": 3
   },
   "file_extension": ".py",
   "mimetype": "text/x-python",
   "name": "python",
   "nbconvert_exporter": "python",
   "pygments_lexer": "ipython3",
   "version": 3
  },
  "orig_nbformat": 2
 },
 "nbformat": 4,
 "nbformat_minor": 2,
 "cells": [
  {
   "source": [
    "## The first homework details\n",
    "Recall that the first homework is due to week-4 lecture <b>(09/22)</b>.\n",
    "Your task will be applying a linear regression model to a dataset of your choice.\n",
    "\n",
    "# Directions:\n",
    "1. You cannot work with datasets that is explored in our textbooks or in our classes.\n",
    "\n",
    "2. The Dataset should contain more than 200 observations (rows) and more than 4 columns.\n",
    "\n",
    "3. Data can be relatively clean but you should be doing the preprocessing procedures on your own.\n",
    "\n",
    "4. As it is explained in Hands-on Machine Learning with Scikit-Learn, Keras and TensorFlow (2nd edition) chapter-2, you should be able to explain the business goal of your project very clearly.\n",
    "\n",
    "5. If you are applying a transformation to some of your features you should explain the rationale of such decisions.\n",
    "\n",
    "6. You should use visualization techniques to explore the data and to support your results.\n",
    "\n",
    "7. You should be able to assess the model fitness and you should do model diagnosis as it is described in ISLR 3.3.3.\n",
    "\n",
    "## Deliverables:\n",
    "As I mentioned in the first class, I want you to upload your project into Github and share it with me the github link. Github folder should contain three main ingredient:\n",
    "\n",
    "1. ReadMe\n",
    "\n",
    "2. Code + Notebooks\n",
    "\n",
    "3. Summary + Report.\n",
    "\n",
    "I will explain more on what I will be looking for in each of these items later in the class.\n",
    "\n",
    "Here is a good example of a very good project done by one of my previous students: Alphonso Woodbury - Project"
   ],
   "cell_type": "markdown",
   "metadata": {}
  }
 ]
}