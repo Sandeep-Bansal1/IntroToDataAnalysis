{
 "metadata": {
  "language_info": {
   "codemirror_mode": {
    "name": "ipython",
    "version": 3
   },
   "file_extension": ".py",
   "mimetype": "text/x-python",
   "name": "python",
   "nbconvert_exporter": "python",
   "pygments_lexer": "ipython3",
   "version": 3
  },
  "orig_nbformat": 2
 },
 "nbformat": 4,
 "nbformat_minor": 2,
 "cells": [
  {
   "source": [
    "#  Regression Using Tableau's Sample Superstore Dataset\n",
    "\n",
    "## Predicting profit of products categories \n",
    "\n",
    "### Overview\n",
    "\n",
    "To stay on top of their industry's supply and demand, businesses are always looking to find ways to better understand their profits and the specific products that drive the success of their business.  In this assignment, I attempt to find regression model that best fits to predict profit of product categories in this toy dataset from Tableau. \n",
    "\n",
    "### Dataset\n",
    "Insert information here about Tableau's toy Dataset\n",
    "\n",
    "### Data Preprocessing\n",
    "Insert information of preprocessing data\n",
    "\n",
    "### Modeling\n",
    "Insert Code Here to Show What modelling was used\n",
    "\n",
    "### Results\n",
    "Explain results & assess the model fitness. Need to model diagnosis as it is described in ISLR 3.3.3.\n",
    "\n",
    "### Summary of Results & Observations\n",
    "Explain what the results mean in laments terms and provide a conclusion of how to further enhance the model for better conclusions\n",
    "\n",
    "\n",
    "\n",
    "\n",
    "\n"
   ],
   "cell_type": "markdown",
   "metadata": {}
  },
  {
   "cell_type": "code",
   "execution_count": null,
   "metadata": {},
   "outputs": [],
   "source": []
  }
 ]
}