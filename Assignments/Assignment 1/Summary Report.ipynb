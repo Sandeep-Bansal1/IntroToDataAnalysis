{
 "metadata": {
  "language_info": {
   "codemirror_mode": {
    "name": "ipython",
    "version": 3
   },
   "file_extension": ".py",
   "mimetype": "text/x-python",
   "name": "python",
   "nbconvert_exporter": "python",
   "pygments_lexer": "ipython3",
   "version": "3.7.6-final"
  },
  "orig_nbformat": 2,
  "kernelspec": {
   "name": "python_defaultSpec_1600185385326",
   "display_name": "Python 3.7.6 64-bit ('base': conda)"
  }
 },
 "nbformat": 4,
 "nbformat_minor": 2,
 "cells": [
  {
   "source": [
    "# Predicting Product Category Profit for Tableau's 'Sample-Superstore'\n",
    "<p align=\"center\">\n",
    "<img src=\"https://github.com/Lwhieldon/IntroToDataAnalysis/blob/master/Images/SampleSuperstore.png?raw=true\" width=\"300\" height=\"300\" />\n",
    "</p>\n",
    "\n",
    "## Overview & Business Value\n",
    "To stay on top of supply and demand, businesses are looking to find ways to better understand their future profits and success in their respective industry.\n",
    "\n",
    "For this assignment, I will pretend to be a data scientist for Tableau's 'Sample-Superstore', in which I use machine learning techniques to predict future profit by product category for 'Sample-Superstore' by selecting a regression model that best fits to the data.\n",
    "\n",
    "To provide a little bit more background about 'Sample-Superstore', it is a US-based company that sells office supplies; it relies heavily on its regional managers to stay on top of tracking product groups to ensure total company profits. The regional managers have asked me, as their data scientist, to help them understand company profit by product category in future years based on the past 4 years on data (no 2020 data is include since the year hasn't finished). They provided this data in excel format, which includes all products sold, categories of products, product names, customer information (location and name) and their quantities & profits respectively.\n",
    "\n",
    "The model that I create will be key critical in end of year executive meetings, where the regional managers will present predicted future profit for products for the upcoming year. The business will use the output of this model to compare current year's data (when the data becomes available) to see if what is predicted aligns with current business trends or if they need to reassess what products they make to drive profits up. \n",
    "\n",
    "How is 'Super-store' predicting future profits today? In essence, by guessing. Executives want the ability to predict future profits rather than by guessing alone, and so the executives believe the model will be useful to accurately assess future profits by product category for the company. \n",
    "\n",
    "To help answer Sample-Superstore's business problem, I will be applying supervised learning, since we are given labeled training examples. It is a multiple regression task since our model will use multiple features to make the total company profit prediction. Additionally, this is a univariate model since we are predicting product category profit only.\n",
    "\n",
    "\n",
    "\n",
    "\n",
    "\n"
   ],
   "cell_type": "markdown",
   "metadata": {}
  },
  {
   "cell_type": "code",
   "execution_count": 1,
   "metadata": {},
   "outputs": [],
   "source": [
    "import numpy as np\n",
    "import pandas as pd\n",
    "import matplotlib as mp\n"
   ]
  },
  {
   "source": [
    "\n",
    "## Dataset\n",
    "\n",
    "The dataset is obtained from Tableau's 'Sample-Superstore' toy dataset provided to users who download the Tableau desktop application. For this exercise, we are pretending that we received the data from 'Sample-Superstore's' regional managers. \n",
    "\n",
    "The data includes 9,994 observations, each representing a separate Order-ID from dates between 2016 to 2019. When reviewing the products by product category, the median price for product category is $xx, and xx% of product categories fall between the $xx and $xx range.\n"
   ],
   "cell_type": "markdown",
   "metadata": {}
  },
  {
   "source": [
    "## Modeling\n",
    "\n",
    "\n",
    "\n"
   ],
   "cell_type": "markdown",
   "metadata": {}
  },
  {
   "source": [
    "## Performance Measure\n",
    "\n",
    "A typical performance measure for regression problems is Root Mean Squared Error (RMSE). Least Squares Approach\n"
   ],
   "cell_type": "markdown",
   "metadata": {}
  },
  {
   "source": [
    "## Results\n",
    "Explain results & assess the model fitness. Need to model diagnosis as it is described in ISLR 3.3.3.\n",
    "\n"
   ],
   "cell_type": "markdown",
   "metadata": {}
  },
  {
   "source": [
    "## Summary of Results & Observations\n",
    "Explain what the results mean in laments terms and provide a conclusion of how to further enhance the model for better conclusions"
   ],
   "cell_type": "markdown",
   "metadata": {}
  }
 ]
}