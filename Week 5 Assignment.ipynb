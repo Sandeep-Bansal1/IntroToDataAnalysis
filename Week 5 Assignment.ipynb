{
 "cells": [
  {
   "cell_type": "markdown",
   "metadata": {},
   "source": [
    "# Assignment 5\n",
    "\n",
    "- Attached is an Excel spreadsheet that has two worksheets, \"main\" and \"another\"\n",
    "- Each worksheet has data and visualizations. \n",
    "- Worksheet \"main\" has a \"patient id\" column; \n",
    "- Worksheet \"another\" has a \"p_id\" column\n",
    "- The \"patient id\" values in \"main\" tab are the same variable as \"p_id\" in \"another\"\n",
    "\n",
    "Submit a notebook that reads the Excel spreadsheet and produces a separate spreadsheet with the following modifications:\n",
    "\n",
    "- Use openpyxl to copy patients from \"another\" to \"main\"\n",
    "- For patients on \"another\" that don't exist in \"main,\" create new rows in \"main\"\n",
    "- Make no changes to the visualizations that exist in each worksheet\n",
    "- Make no changes to the data on \"another\"\n",
    "- Write your changes to a new .xlsx file (don't overwrite the original)\n",
    " \n",
    "Observations:\n",
    "\n",
    "- \"main\" worksheet will have three new columns (because those columns exist in the \"another\" worksheet)\n",
    "- \"main\" worksheet will have new rows (one row per patient)\n",
    "- There will be empty cells in \"main\" worksheet\n",
    "- Use a programmatic (rather than manual) approach to identify which patients appear in both worksheets\n",
    "- Some cells in both worksheets contain formulas. Copy only values from \"another\" to \"main\n",
    "\n",
    "Note: Jupyter Notebook will assume that file, week_05_homework_XLSX_openpyxl.xlsx, is located in the same working directory as this notebook"
   ]
  },
  {
   "cell_type": "code",
   "execution_count": 1,
   "metadata": {},
   "outputs": [],
   "source": [
    "import openpyxl"
   ]
  },
  {
   "cell_type": "code",
   "execution_count": 2,
   "metadata": {},
   "outputs": [],
   "source": [
    "wb = openpyxl.load_workbook(\"week_05_homework_XLSX_openpyxl.xlsx\")"
   ]
  },
  {
   "cell_type": "code",
   "execution_count": 3,
   "metadata": {},
   "outputs": [],
   "source": [
    "main = wb[\"main\"]\n",
    "another = wb[\"another\"]\n",
    "\n",
    "#update main sheet to list nam and kf columns from another sheet\n",
    "main[\"G1\"]=\"nam\"\n",
    "main[\"H1\"]=\"kf\"\n",
    "\n",
    "#find the max row in both main & another sheet\n",
    "main_max_row = main.max_row\n",
    "another_max_row = another.max_row"
   ]
  },
  {
   "cell_type": "code",
   "execution_count": 4,
   "metadata": {},
   "outputs": [],
   "source": [
    "another_pat_id = []\n",
    "main_pat_id = []\n",
    "\n",
    "#gather a list of patients from main sheet:\n",
    "for i in range(1,main_max_row+1):\n",
    "    main_pat_id.append(main.cell(row=i,column=1).value)\n",
    "#gather a list of patients from another sheet:\n",
    "for i in range(1,another_max_row+1):\n",
    "    another_pat_id.append(another.cell(row=i,column=1).value)"
   ]
  },
  {
   "cell_type": "code",
   "execution_count": 5,
   "metadata": {},
   "outputs": [],
   "source": [
    "list2 = another_pat_id \n",
    "list1 = main_pat_id \n",
    "pos = [[[item1,n] for n, item2 in enumerate(list2) if item1 == item2] for item1 in list1]\n",
    "pos = [pair[0] for pair in pos if len(pair) > 0]\n",
    "patient_id_list = [item1 for item1 in list1]\n",
    "pos = [[patient_id_list.index(entry[0]),entry[1]] for entry in pos]"
   ]
  },
  {
   "cell_type": "code",
   "execution_count": 6,
   "metadata": {},
   "outputs": [],
   "source": [
    "for idx1,idx2 in pos:\n",
    "    main.cell(row=idx1+1,column=7).value = another.cell(row=idx2+1,column=2).value\n",
    "    main.cell(row=idx1+1,column=8).value = another.cell(row=idx2+1,column=3).value"
   ]
  },
  {
   "cell_type": "code",
   "execution_count": 7,
   "metadata": {},
   "outputs": [],
   "source": [
    "new_indices = [idx for idx in range(len(list2)) if idx not in [jdx[1] for jdx in pos]]\n",
    "del new_indices[0]\n"
   ]
  },
  {
   "cell_type": "code",
   "execution_count": 8,
   "metadata": {},
   "outputs": [],
   "source": [
    "new_data = []\n",
    "for num in new_indices:\n",
    "    new_data.append([another.cell(row=num,column=1).value,\"\",\"\",\"\",\"\",\"\",\n",
    "                     another.cell(row=num,column=2).value,another.cell(row=num,column=3).value]) "
   ]
  },
  {
   "cell_type": "code",
   "execution_count": 9,
   "metadata": {},
   "outputs": [],
   "source": [
    "for row in new_data:\n",
    "    main.append(row)"
   ]
  },
  {
   "cell_type": "code",
   "execution_count": 10,
   "metadata": {},
   "outputs": [],
   "source": [
    "wb.save(\"NEW_week_05_homework_XLSX_openpyxl.xlsx\")"
   ]
  }
 ],
 "metadata": {
  "kernelspec": {
   "display_name": "Python 3",
   "language": "python",
   "name": "python3"
  },
  "language_info": {
   "codemirror_mode": {
    "name": "ipython",
    "version": 3
   },
   "file_extension": ".py",
   "mimetype": "text/x-python",
   "name": "python",
   "nbconvert_exporter": "python",
   "pygments_lexer": "ipython3",
   "version": "3.7.6"
  }
 },
 "nbformat": 4,
 "nbformat_minor": 2
}
